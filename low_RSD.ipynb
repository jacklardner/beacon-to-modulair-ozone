{
 "cells": [
  {
   "cell_type": "code",
   "execution_count": 9,
   "metadata": {},
   "outputs": [],
   "source": [
    "#imports\n",
    "import pandas as pd\n",
    "import matplotlib.pyplot as plt\n",
    "import numpy as np\n",
    "from statsmodels.stats.weightstats import ttest_ind\n",
    "import scipy.stats as stats\n",
    "import seaborn as sns\n",
    "import matplotlib.pyplot as plt\n",
    "import statsmodels.stats.api as sms\n",
    "import statsmodels.api as sm"
   ]
  },
  {
   "cell_type": "code",
   "execution_count": 10,
   "metadata": {},
   "outputs": [],
   "source": [
    "dpw_hourly = pd.read_csv(\"data/dpw_hourly_o3.csv\")\n",
    "pema_hourly = pd.read_csv(\"data/pema_hourly_o3.csv\")\n",
    "pha_hourly = pd.read_csv(\"data/pha_hourly_o3.csv\")"
   ]
  },
  {
   "cell_type": "code",
   "execution_count": 11,
   "metadata": {},
   "outputs": [],
   "source": [
    "dpw_hourly = dpw_hourly.rename(columns={\"o3\": \"o3_dpw\"})\n",
    "pema_hourly = pema_hourly.rename(columns={\"o3\": \"o3_pema\"})\n",
    "pha_hourly = pha_hourly.rename(columns={\"o3\": \"o3_pha\"})\n",
    "\n",
    "merged = dpw_hourly.merge(pema_hourly, on=\"datetime_utc\", how=\"inner\") \\\n",
    "                   .merge(pha_hourly, on=\"datetime_utc\", how=\"inner\")\n"
   ]
  },
  {
   "cell_type": "code",
   "execution_count": 12,
   "metadata": {},
   "outputs": [
    {
     "data": {
      "text/html": [
       "<div>\n",
       "<style scoped>\n",
       "    .dataframe tbody tr th:only-of-type {\n",
       "        vertical-align: middle;\n",
       "    }\n",
       "\n",
       "    .dataframe tbody tr th {\n",
       "        vertical-align: top;\n",
       "    }\n",
       "\n",
       "    .dataframe thead th {\n",
       "        text-align: right;\n",
       "    }\n",
       "</style>\n",
       "<table border=\"1\" class=\"dataframe\">\n",
       "  <thead>\n",
       "    <tr style=\"text-align: right;\">\n",
       "      <th></th>\n",
       "      <th>datetime_utc</th>\n",
       "      <th>o3_dpw</th>\n",
       "      <th>o3_pema</th>\n",
       "      <th>o3_pha</th>\n",
       "      <th>mean_o3</th>\n",
       "      <th>std_o3</th>\n",
       "      <th>rsd_o3</th>\n",
       "    </tr>\n",
       "  </thead>\n",
       "  <tbody>\n",
       "    <tr>\n",
       "      <th>0</th>\n",
       "      <td>2024-12-17 00:00:00+00:00</td>\n",
       "      <td>39.337867</td>\n",
       "      <td>35.763817</td>\n",
       "      <td>16.174917</td>\n",
       "      <td>30.425533</td>\n",
       "      <td>12.470105</td>\n",
       "      <td>0.409857</td>\n",
       "    </tr>\n",
       "    <tr>\n",
       "      <th>1</th>\n",
       "      <td>2024-12-17 01:00:00+00:00</td>\n",
       "      <td>40.264133</td>\n",
       "      <td>34.327867</td>\n",
       "      <td>19.326967</td>\n",
       "      <td>31.306322</td>\n",
       "      <td>10.790669</td>\n",
       "      <td>0.344680</td>\n",
       "    </tr>\n",
       "    <tr>\n",
       "      <th>2</th>\n",
       "      <td>2024-12-17 02:00:00+00:00</td>\n",
       "      <td>40.435317</td>\n",
       "      <td>38.493650</td>\n",
       "      <td>22.212433</td>\n",
       "      <td>33.713800</td>\n",
       "      <td>10.007677</td>\n",
       "      <td>0.296842</td>\n",
       "    </tr>\n",
       "    <tr>\n",
       "      <th>3</th>\n",
       "      <td>2024-12-17 03:00:00+00:00</td>\n",
       "      <td>38.338317</td>\n",
       "      <td>38.445650</td>\n",
       "      <td>22.706650</td>\n",
       "      <td>33.163539</td>\n",
       "      <td>9.056090</td>\n",
       "      <td>0.273074</td>\n",
       "    </tr>\n",
       "    <tr>\n",
       "      <th>4</th>\n",
       "      <td>2024-12-17 04:00:00+00:00</td>\n",
       "      <td>42.874350</td>\n",
       "      <td>41.017483</td>\n",
       "      <td>27.082383</td>\n",
       "      <td>36.991406</td>\n",
       "      <td>8.631543</td>\n",
       "      <td>0.233339</td>\n",
       "    </tr>\n",
       "  </tbody>\n",
       "</table>\n",
       "</div>"
      ],
      "text/plain": [
       "                datetime_utc     o3_dpw    o3_pema     o3_pha    mean_o3  \\\n",
       "0  2024-12-17 00:00:00+00:00  39.337867  35.763817  16.174917  30.425533   \n",
       "1  2024-12-17 01:00:00+00:00  40.264133  34.327867  19.326967  31.306322   \n",
       "2  2024-12-17 02:00:00+00:00  40.435317  38.493650  22.212433  33.713800   \n",
       "3  2024-12-17 03:00:00+00:00  38.338317  38.445650  22.706650  33.163539   \n",
       "4  2024-12-17 04:00:00+00:00  42.874350  41.017483  27.082383  36.991406   \n",
       "\n",
       "      std_o3    rsd_o3  \n",
       "0  12.470105  0.409857  \n",
       "1  10.790669  0.344680  \n",
       "2  10.007677  0.296842  \n",
       "3   9.056090  0.273074  \n",
       "4   8.631543  0.233339  "
      ]
     },
     "execution_count": 12,
     "metadata": {},
     "output_type": "execute_result"
    }
   ],
   "source": [
    "merged[\"mean_o3\"] = merged[[\"o3_dpw\", \"o3_pema\", \"o3_pha\"]].mean(axis=1)\n",
    "merged[\"std_o3\"] = merged[[\"o3_dpw\", \"o3_pema\", \"o3_pha\"]].std(axis=1)\n",
    "\n",
    "merged[\"rsd_o3\"] = merged[\"std_o3\"] / merged[\"mean_o3\"].replace(0, pd.NA)\n",
    "merged.head()"
   ]
  },
  {
   "cell_type": "code",
   "execution_count": 13,
   "metadata": {},
   "outputs": [],
   "source": [
    "cutoff = merged[\"rsd_o3\"].quantile(0.10)\n",
    "lowest_rsd_hours = merged[merged[\"rsd_o3\"] <= cutoff].copy()\n",
    "\n",
    "lowest_rsd_hours.to_csv(\"data/lowest_rsd_hours.csv\")"
   ]
  }
 ],
 "metadata": {
  "kernelspec": {
   "display_name": "Python 3",
   "language": "python",
   "name": "python3"
  },
  "language_info": {
   "codemirror_mode": {
    "name": "ipython",
    "version": 3
   },
   "file_extension": ".py",
   "mimetype": "text/x-python",
   "name": "python",
   "nbconvert_exporter": "python",
   "pygments_lexer": "ipython3",
   "version": "3.10.6"
  },
  "orig_nbformat": 4,
  "vscode": {
   "interpreter": {
    "hash": "aee8b7b246df8f9039afb4144a1f6fd8d2ca17a180786b69acc140d282b71a49"
   }
  }
 },
 "nbformat": 4,
 "nbformat_minor": 2
}
